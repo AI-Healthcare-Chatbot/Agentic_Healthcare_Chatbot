{
 "cells": [
  {
   "cell_type": "code",
   "execution_count": 1,
   "metadata": {},
   "outputs": [],
   "source": [
    "import pandas as pd\n",
    "import numpy as np"
   ]
  },
  {
   "cell_type": "code",
   "execution_count": 2,
   "metadata": {},
   "outputs": [],
   "source": [
    "df = pd.read_csv('./Data/Hospital_Inpatient_Discharges.csv', low_memory=False)"
   ]
  },
  {
   "cell_type": "code",
   "execution_count": 3,
   "metadata": {},
   "outputs": [
    {
     "data": {
      "text/html": [
       "<div>\n",
       "<style scoped>\n",
       "    .dataframe tbody tr th:only-of-type {\n",
       "        vertical-align: middle;\n",
       "    }\n",
       "\n",
       "    .dataframe tbody tr th {\n",
       "        vertical-align: top;\n",
       "    }\n",
       "\n",
       "    .dataframe thead th {\n",
       "        text-align: right;\n",
       "    }\n",
       "</style>\n",
       "<table border=\"1\" class=\"dataframe\">\n",
       "  <thead>\n",
       "    <tr style=\"text-align: right;\">\n",
       "      <th></th>\n",
       "      <th>Hospital Service Area</th>\n",
       "      <th>Hospital County</th>\n",
       "      <th>Operating Certificate Number</th>\n",
       "      <th>Permanent Facility Id</th>\n",
       "      <th>Facility Name</th>\n",
       "      <th>Age Group</th>\n",
       "      <th>Zip Code - 3 digits</th>\n",
       "      <th>Gender</th>\n",
       "      <th>Race</th>\n",
       "      <th>Ethnicity</th>\n",
       "      <th>...</th>\n",
       "      <th>APR Severity of Illness Description</th>\n",
       "      <th>APR Risk of Mortality</th>\n",
       "      <th>APR Medical Surgical Description</th>\n",
       "      <th>Payment Typology 1</th>\n",
       "      <th>Payment Typology 2</th>\n",
       "      <th>Payment Typology 3</th>\n",
       "      <th>Birth Weight</th>\n",
       "      <th>Emergency Department Indicator</th>\n",
       "      <th>Total Charges</th>\n",
       "      <th>Total Costs</th>\n",
       "    </tr>\n",
       "  </thead>\n",
       "  <tbody>\n",
       "    <tr>\n",
       "      <th>0</th>\n",
       "      <td>New York City</td>\n",
       "      <td>Bronx</td>\n",
       "      <td>7000006.0</td>\n",
       "      <td>3058.0</td>\n",
       "      <td>Montefiore Med Center - Jack D Weiler Hosp of ...</td>\n",
       "      <td>50 to 69</td>\n",
       "      <td>107</td>\n",
       "      <td>F</td>\n",
       "      <td>White</td>\n",
       "      <td>Not Span/Hispanic</td>\n",
       "      <td>...</td>\n",
       "      <td>Major</td>\n",
       "      <td>Major</td>\n",
       "      <td>Medical</td>\n",
       "      <td>Medicaid</td>\n",
       "      <td>NaN</td>\n",
       "      <td>NaN</td>\n",
       "      <td>NaN</td>\n",
       "      <td>Y</td>\n",
       "      <td>51,514.62</td>\n",
       "      <td>7,552.54</td>\n",
       "    </tr>\n",
       "    <tr>\n",
       "      <th>1</th>\n",
       "      <td>New York City</td>\n",
       "      <td>Bronx</td>\n",
       "      <td>7000006.0</td>\n",
       "      <td>3058.0</td>\n",
       "      <td>Montefiore Med Center - Jack D Weiler Hosp of ...</td>\n",
       "      <td>18 to 29</td>\n",
       "      <td>104</td>\n",
       "      <td>M</td>\n",
       "      <td>Black/African American</td>\n",
       "      <td>Spanish/Hispanic</td>\n",
       "      <td>...</td>\n",
       "      <td>Moderate</td>\n",
       "      <td>Minor</td>\n",
       "      <td>Medical</td>\n",
       "      <td>Medicaid</td>\n",
       "      <td>NaN</td>\n",
       "      <td>NaN</td>\n",
       "      <td>NaN</td>\n",
       "      <td>Y</td>\n",
       "      <td>25,370.86</td>\n",
       "      <td>3,469.55</td>\n",
       "    </tr>\n",
       "    <tr>\n",
       "      <th>2</th>\n",
       "      <td>New York City</td>\n",
       "      <td>Bronx</td>\n",
       "      <td>7000006.0</td>\n",
       "      <td>3058.0</td>\n",
       "      <td>Montefiore Med Center - Jack D Weiler Hosp of ...</td>\n",
       "      <td>18 to 29</td>\n",
       "      <td>104</td>\n",
       "      <td>F</td>\n",
       "      <td>Other Race</td>\n",
       "      <td>Spanish/Hispanic</td>\n",
       "      <td>...</td>\n",
       "      <td>Minor</td>\n",
       "      <td>Minor</td>\n",
       "      <td>Medical</td>\n",
       "      <td>Medicaid</td>\n",
       "      <td>NaN</td>\n",
       "      <td>NaN</td>\n",
       "      <td>NaN</td>\n",
       "      <td>N</td>\n",
       "      <td>23,876.78</td>\n",
       "      <td>6,180.33</td>\n",
       "    </tr>\n",
       "    <tr>\n",
       "      <th>3</th>\n",
       "      <td>New York City</td>\n",
       "      <td>Bronx</td>\n",
       "      <td>7000006.0</td>\n",
       "      <td>3058.0</td>\n",
       "      <td>Montefiore Med Center - Jack D Weiler Hosp of ...</td>\n",
       "      <td>18 to 29</td>\n",
       "      <td>100</td>\n",
       "      <td>F</td>\n",
       "      <td>Black/African American</td>\n",
       "      <td>Not Span/Hispanic</td>\n",
       "      <td>...</td>\n",
       "      <td>Moderate</td>\n",
       "      <td>Minor</td>\n",
       "      <td>Medical</td>\n",
       "      <td>Medicaid</td>\n",
       "      <td>NaN</td>\n",
       "      <td>NaN</td>\n",
       "      <td>NaN</td>\n",
       "      <td>Y</td>\n",
       "      <td>43,319.05</td>\n",
       "      <td>12,588.93</td>\n",
       "    </tr>\n",
       "    <tr>\n",
       "      <th>4</th>\n",
       "      <td>New York City</td>\n",
       "      <td>Bronx</td>\n",
       "      <td>7000006.0</td>\n",
       "      <td>1168.0</td>\n",
       "      <td>Montefiore Medical Center-Wakefield Hospital</td>\n",
       "      <td>18 to 29</td>\n",
       "      <td>104</td>\n",
       "      <td>M</td>\n",
       "      <td>Other Race</td>\n",
       "      <td>Spanish/Hispanic</td>\n",
       "      <td>...</td>\n",
       "      <td>Moderate</td>\n",
       "      <td>Moderate</td>\n",
       "      <td>Medical</td>\n",
       "      <td>Medicaid</td>\n",
       "      <td>NaN</td>\n",
       "      <td>NaN</td>\n",
       "      <td>NaN</td>\n",
       "      <td>Y</td>\n",
       "      <td>40,266.23</td>\n",
       "      <td>10,355.99</td>\n",
       "    </tr>\n",
       "  </tbody>\n",
       "</table>\n",
       "<p>5 rows × 33 columns</p>\n",
       "</div>"
      ],
      "text/plain": [
       "  Hospital Service Area Hospital County  Operating Certificate Number  \\\n",
       "0         New York City           Bronx                     7000006.0   \n",
       "1         New York City           Bronx                     7000006.0   \n",
       "2         New York City           Bronx                     7000006.0   \n",
       "3         New York City           Bronx                     7000006.0   \n",
       "4         New York City           Bronx                     7000006.0   \n",
       "\n",
       "   Permanent Facility Id                                      Facility Name  \\\n",
       "0                 3058.0  Montefiore Med Center - Jack D Weiler Hosp of ...   \n",
       "1                 3058.0  Montefiore Med Center - Jack D Weiler Hosp of ...   \n",
       "2                 3058.0  Montefiore Med Center - Jack D Weiler Hosp of ...   \n",
       "3                 3058.0  Montefiore Med Center - Jack D Weiler Hosp of ...   \n",
       "4                 1168.0       Montefiore Medical Center-Wakefield Hospital   \n",
       "\n",
       "  Age Group Zip Code - 3 digits Gender                    Race  \\\n",
       "0  50 to 69                 107      F                   White   \n",
       "1  18 to 29                 104      M  Black/African American   \n",
       "2  18 to 29                 104      F              Other Race   \n",
       "3  18 to 29                 100      F  Black/African American   \n",
       "4  18 to 29                 104      M              Other Race   \n",
       "\n",
       "           Ethnicity  ... APR Severity of Illness Description  \\\n",
       "0  Not Span/Hispanic  ...                               Major   \n",
       "1   Spanish/Hispanic  ...                            Moderate   \n",
       "2   Spanish/Hispanic  ...                               Minor   \n",
       "3  Not Span/Hispanic  ...                            Moderate   \n",
       "4   Spanish/Hispanic  ...                            Moderate   \n",
       "\n",
       "  APR Risk of Mortality APR Medical Surgical Description  Payment Typology 1  \\\n",
       "0                 Major                          Medical            Medicaid   \n",
       "1                 Minor                          Medical            Medicaid   \n",
       "2                 Minor                          Medical            Medicaid   \n",
       "3                 Minor                          Medical            Medicaid   \n",
       "4              Moderate                          Medical            Medicaid   \n",
       "\n",
       "  Payment Typology 2 Payment Typology 3 Birth Weight  \\\n",
       "0                NaN                NaN          NaN   \n",
       "1                NaN                NaN          NaN   \n",
       "2                NaN                NaN          NaN   \n",
       "3                NaN                NaN          NaN   \n",
       "4                NaN                NaN          NaN   \n",
       "\n",
       "  Emergency Department Indicator  Total Charges Total Costs  \n",
       "0                              Y      51,514.62    7,552.54  \n",
       "1                              Y      25,370.86    3,469.55  \n",
       "2                              N      23,876.78    6,180.33  \n",
       "3                              Y      43,319.05   12,588.93  \n",
       "4                              Y      40,266.23   10,355.99  \n",
       "\n",
       "[5 rows x 33 columns]"
      ]
     },
     "execution_count": 3,
     "metadata": {},
     "output_type": "execute_result"
    }
   ],
   "source": [
    "df.head()"
   ]
  },
  {
   "cell_type": "code",
   "execution_count": 4,
   "metadata": {},
   "outputs": [
    {
     "name": "stdout",
     "output_type": "stream",
     "text": [
      "<class 'pandas.core.frame.DataFrame'>\n",
      "RangeIndex: 2103433 entries, 0 to 2103432\n",
      "Data columns (total 33 columns):\n",
      " #   Column                               Dtype  \n",
      "---  ------                               -----  \n",
      " 0   Hospital Service Area                object \n",
      " 1   Hospital County                      object \n",
      " 2   Operating Certificate Number         float64\n",
      " 3   Permanent Facility Id                float64\n",
      " 4   Facility Name                        object \n",
      " 5   Age Group                            object \n",
      " 6   Zip Code - 3 digits                  object \n",
      " 7   Gender                               object \n",
      " 8   Race                                 object \n",
      " 9   Ethnicity                            object \n",
      " 10  Length of Stay                       object \n",
      " 11  Type of Admission                    object \n",
      " 12  Patient Disposition                  object \n",
      " 13  Discharge Year                       int64  \n",
      " 14  CCSR Diagnosis Code                  object \n",
      " 15  CCSR Diagnosis Description           object \n",
      " 16  CCSR Procedure Code                  object \n",
      " 17  CCSR Procedure Description           object \n",
      " 18  APR DRG Code                         int64  \n",
      " 19  APR DRG Description                  object \n",
      " 20  APR MDC Code                         int64  \n",
      " 21  APR MDC Description                  object \n",
      " 22  APR Severity of Illness Code         int64  \n",
      " 23  APR Severity of Illness Description  object \n",
      " 24  APR Risk of Mortality                object \n",
      " 25  APR Medical Surgical Description     object \n",
      " 26  Payment Typology 1                   object \n",
      " 27  Payment Typology 2                   object \n",
      " 28  Payment Typology 3                   object \n",
      " 29  Birth Weight                         object \n",
      " 30  Emergency Department Indicator       object \n",
      " 31  Total Charges                        object \n",
      " 32  Total Costs                          object \n",
      "dtypes: float64(2), int64(4), object(27)\n",
      "memory usage: 529.6+ MB\n"
     ]
    }
   ],
   "source": [
    "df.info()"
   ]
  },
  {
   "cell_type": "code",
   "execution_count": 6,
   "metadata": {},
   "outputs": [
    {
     "data": {
      "text/plain": [
       "Hospital Service Area                     5390\n",
       "Hospital County                           5390\n",
       "Operating Certificate Number              5961\n",
       "Permanent Facility Id                     5390\n",
       "Facility Name                                0\n",
       "Age Group                                    0\n",
       "Zip Code - 3 digits                      41227\n",
       "Gender                                       0\n",
       "Race                                         0\n",
       "Ethnicity                                    0\n",
       "Length of Stay                               0\n",
       "Type of Admission                            0\n",
       "Patient Disposition                          0\n",
       "Discharge Year                               0\n",
       "CCSR Diagnosis Code                          0\n",
       "CCSR Diagnosis Description                   0\n",
       "CCSR Procedure Code                     582815\n",
       "CCSR Procedure Description              582815\n",
       "APR DRG Code                                 0\n",
       "APR DRG Description                          0\n",
       "APR MDC Code                                 0\n",
       "APR MDC Description                          0\n",
       "APR Severity of Illness Code                 0\n",
       "APR Severity of Illness Description        636\n",
       "APR Risk of Mortality                      636\n",
       "APR Medical Surgical Description             0\n",
       "Payment Typology 1                           0\n",
       "Payment Typology 2                     1121497\n",
       "Payment Typology 3                     1814362\n",
       "Birth Weight                           1894796\n",
       "Emergency Department Indicator               0\n",
       "Total Charges                                0\n",
       "Total Costs                                  0\n",
       "dtype: int64"
      ]
     },
     "execution_count": 6,
     "metadata": {},
     "output_type": "execute_result"
    }
   ],
   "source": [
    "df.isnull().sum()"
   ]
  },
  {
   "cell_type": "code",
   "execution_count": 7,
   "metadata": {},
   "outputs": [
    {
     "data": {
      "text/plain": [
       "Index(['Hospital Service Area', 'Hospital County',\n",
       "       'Operating Certificate Number', 'Permanent Facility Id',\n",
       "       'Facility Name', 'Age Group', 'Zip Code - 3 digits', 'Gender', 'Race',\n",
       "       'Ethnicity', 'Length of Stay', 'Type of Admission',\n",
       "       'Patient Disposition', 'Discharge Year', 'CCSR Diagnosis Code',\n",
       "       'CCSR Diagnosis Description', 'CCSR Procedure Code',\n",
       "       'CCSR Procedure Description', 'APR DRG Code', 'APR DRG Description',\n",
       "       'APR MDC Code', 'APR MDC Description', 'APR Severity of Illness Code',\n",
       "       'APR Severity of Illness Description', 'APR Risk of Mortality',\n",
       "       'APR Medical Surgical Description', 'Payment Typology 1',\n",
       "       'Payment Typology 2', 'Payment Typology 3', 'Birth Weight',\n",
       "       'Emergency Department Indicator', 'Total Charges', 'Total Costs'],\n",
       "      dtype='object')"
      ]
     },
     "execution_count": 7,
     "metadata": {},
     "output_type": "execute_result"
    }
   ],
   "source": [
    "df.columns"
   ]
  },
  {
   "cell_type": "code",
   "execution_count": 8,
   "metadata": {},
   "outputs": [],
   "source": [
    "df = df.drop(columns=['Operating Certificate Number', 'Permanent Facility Id', 'Ethnicity', 'CCSR Diagnosis Code', 'CCSR Procedure Code', 'APR DRG Code', \n",
    "                      'APR MDC Code', 'APR Severity of Illness Code', 'Payment Typology 2', 'Payment Typology 3', 'CCSR Procedure Description'])"
   ]
  },
  {
   "cell_type": "code",
   "execution_count": 10,
   "metadata": {},
   "outputs": [],
   "source": [
    "df = df.dropna(subset=['APR Severity of Illness Description'])\n",
    "df = df.dropna(subset=['APR Risk of Mortality'])\n",
    "df = df.dropna(subset=['Zip Code - 3 digits'])\n",
    "df = df.dropna(subset=['Hospital Service Area'])\n",
    "df = df.dropna(subset=['Hospital County'])\n",
    "df = df.dropna(subset=['APR DRG Description'])"
   ]
  },
  {
   "cell_type": "code",
   "execution_count": 11,
   "metadata": {},
   "outputs": [
    {
     "data": {
      "text/plain": [
       "Hospital Service Area                        0\n",
       "Hospital County                              0\n",
       "Facility Name                                0\n",
       "Age Group                                    0\n",
       "Zip Code - 3 digits                          0\n",
       "Gender                                       0\n",
       "Race                                         0\n",
       "Length of Stay                               0\n",
       "Type of Admission                            0\n",
       "Patient Disposition                          0\n",
       "Discharge Year                               0\n",
       "CCSR Diagnosis Description                   0\n",
       "APR DRG Description                          0\n",
       "APR MDC Description                          0\n",
       "APR Severity of Illness Description          0\n",
       "APR Risk of Mortality                        0\n",
       "APR Medical Surgical Description             0\n",
       "Payment Typology 1                           0\n",
       "Birth Weight                           1856607\n",
       "Emergency Department Indicator               0\n",
       "Total Charges                                0\n",
       "Total Costs                                  0\n",
       "dtype: int64"
      ]
     },
     "execution_count": 11,
     "metadata": {},
     "output_type": "execute_result"
    }
   ],
   "source": [
    "df.isnull().sum()"
   ]
  },
  {
   "cell_type": "code",
   "execution_count": 12,
   "metadata": {},
   "outputs": [
    {
     "data": {
      "text/plain": [
       "(2061584, 22)"
      ]
     },
     "execution_count": 12,
     "metadata": {},
     "output_type": "execute_result"
    }
   ],
   "source": [
    "df.shape"
   ]
  },
  {
   "cell_type": "code",
   "execution_count": 13,
   "metadata": {},
   "outputs": [],
   "source": [
    "county_to_region = {\n",
    "    'Bronx': 'South', 'Rockland': 'East', 'Manhattan': 'South', 'Westchester': 'East',\n",
    "    'Kings': 'South', 'Queens': 'South', 'Orange': 'East', 'Nassau': 'South',\n",
    "    'Sullivan': 'East', 'Otsego': 'North', 'Herkimer': 'North', 'Delaware': 'East',\n",
    "    'Monroe': 'West', 'Ontario': 'West', 'Cortland': 'North', 'Columbia': 'East',\n",
    "    'Albany': 'East', 'Suffolk': 'East', 'Onondaga': 'North', 'Madison': 'North',\n",
    "    'Steuben': 'West', 'Cayuga': 'North', 'Montgomery': 'North', 'Erie': 'West',\n",
    "    'Jefferson': 'North', 'Oswego': 'North', 'Yates': 'North', 'Wayne': 'West',\n",
    "    'Genesee': 'West', 'Schoharie': 'North', 'Ulster': 'East', 'Oneida': 'North',\n",
    "    'Schenectady': 'North', 'Broome': 'West', 'St Lawrence': 'North', 'Schuyler': 'West',\n",
    "    'Richmond': 'South', 'Niagara': 'West', 'Chemung': 'West', 'Essex': 'North',\n",
    "    'Chautauqua': 'West', 'Dutchess': 'East', 'Putnam': 'East', 'Chenango': 'North',\n",
    "    'Tompkins': 'West', 'Warren': 'North', 'Fulton': 'North', 'Wyoming': 'West',\n",
    "    'Franklin': 'North', 'Cattaraugus': 'West', 'Saratoga': 'North', 'Lewis': 'North',\n",
    "    'Livingston': 'West', 'Allegany': 'West', 'Orleans': 'West', 'Clinton': 'North',\n",
    "    'Rensselaer': 'East'\n",
    "}\n",
    "\n",
    "df['Region'] = df['Hospital County'].map(county_to_region)"
   ]
  },
  {
   "cell_type": "code",
   "execution_count": 14,
   "metadata": {},
   "outputs": [
    {
     "name": "stdout",
     "output_type": "stream",
     "text": [
      "  Gender Birth Weight\n",
      "0      F         3100\n",
      "1      M         3700\n",
      "2      F         3100\n",
      "3      F         3100\n",
      "4      M         3600\n"
     ]
    }
   ],
   "source": [
    "# Function to generate birth weight based on gender, rounded to the nearest 100 gm\n",
    "def generate_birth_weight(row):\n",
    "    if row['Gender'] == 'F':  \n",
    "        return np.random.choice(range(3100, 3301, 100))  \n",
    "    elif row['Gender'] == 'M':  \n",
    "        return np.random.choice(range(3300, 3701, 100))  \n",
    "    else:\n",
    "        return np.nan  # If gender is unknown, set as NaN\n",
    "\n",
    "df['Birth Weight'] = df.apply(generate_birth_weight, axis=1)\n",
    "\n",
    "df['Birth Weight'] = df['Birth Weight'].apply(lambda x: f'{int(x):04d}' if pd.notna(x) else x)\n",
    "\n",
    "print(df[['Gender', 'Birth Weight']].head())"
   ]
  },
  {
   "cell_type": "code",
   "execution_count": 15,
   "metadata": {},
   "outputs": [
    {
     "name": "stdout",
     "output_type": "stream",
     "text": [
      "Gender\n",
      "F      0\n",
      "M      0\n",
      "U    103\n",
      "Name: Birth Weight, dtype: int64\n"
     ]
    }
   ],
   "source": [
    "missing_values_by_gender = df.groupby('Gender')['Birth Weight'].apply(lambda x: x.isnull().sum())\n",
    "\n",
    "print(missing_values_by_gender)"
   ]
  },
  {
   "cell_type": "code",
   "execution_count": 16,
   "metadata": {},
   "outputs": [],
   "source": [
    "df = df.dropna(subset=['Birth Weight'])"
   ]
  },
  {
   "cell_type": "code",
   "execution_count": 17,
   "metadata": {},
   "outputs": [
    {
     "data": {
      "text/plain": [
       "Hospital Service Area                  0\n",
       "Hospital County                        0\n",
       "Facility Name                          0\n",
       "Age Group                              0\n",
       "Zip Code - 3 digits                    0\n",
       "Gender                                 0\n",
       "Race                                   0\n",
       "Length of Stay                         0\n",
       "Type of Admission                      0\n",
       "Patient Disposition                    0\n",
       "Discharge Year                         0\n",
       "CCSR Diagnosis Description             0\n",
       "APR DRG Description                    0\n",
       "APR MDC Description                    0\n",
       "APR Severity of Illness Description    0\n",
       "APR Risk of Mortality                  0\n",
       "APR Medical Surgical Description       0\n",
       "Payment Typology 1                     0\n",
       "Birth Weight                           0\n",
       "Emergency Department Indicator         0\n",
       "Total Charges                          0\n",
       "Total Costs                            0\n",
       "Region                                 0\n",
       "dtype: int64"
      ]
     },
     "execution_count": 17,
     "metadata": {},
     "output_type": "execute_result"
    }
   ],
   "source": [
    "df.isnull().sum()"
   ]
  },
  {
   "cell_type": "code",
   "execution_count": 18,
   "metadata": {},
   "outputs": [
    {
     "data": {
      "text/plain": [
       "(2061481, 23)"
      ]
     },
     "execution_count": 18,
     "metadata": {},
     "output_type": "execute_result"
    }
   ],
   "source": [
    "df.shape"
   ]
  },
  {
   "cell_type": "code",
   "execution_count": 19,
   "metadata": {},
   "outputs": [],
   "source": [
    "# Define mapping from age_group to age_bracket\n",
    "age_group_mapping = {\n",
    "    '0 to 17': 'Child',\n",
    "    '18 to 29': 'Young Adult',\n",
    "    '30 to 49': 'Adult',\n",
    "    '50 to 69': 'Middle Aged',\n",
    "    '70 or Older': 'Senior'\n",
    "}\n",
    "\n",
    "df['Age Bracket'] = df['Age Group'].map(age_group_mapping)"
   ]
  },
  {
   "cell_type": "code",
   "execution_count": 20,
   "metadata": {},
   "outputs": [],
   "source": [
    "df.rename(columns={'Zip Code - 3 digits': 'Zip Code'}, inplace=True)"
   ]
  },
  {
   "cell_type": "code",
   "execution_count": 22,
   "metadata": {},
   "outputs": [],
   "source": [
    "df['Length of Stay'] = df['Length of Stay'].str.replace(r'\\s*\\+\\s*', '', regex=True)"
   ]
  },
  {
   "cell_type": "code",
   "execution_count": 25,
   "metadata": {},
   "outputs": [],
   "source": [
    "df['Total Charges'] = df['Total Charges'].str.replace(',', '')\n",
    "df['Total Costs'] = df['Total Costs'].str.replace(',', '')\n",
    "\n",
    "df['Total Charges'] = pd.to_numeric(df['Total Charges'])\n",
    "df['Total Costs'] = pd.to_numeric(df['Total Costs'])"
   ]
  },
  {
   "cell_type": "code",
   "execution_count": 27,
   "metadata": {},
   "outputs": [],
   "source": [
    "df['Birth Weight'] = pd.to_numeric(df['Birth Weight']).astype('Int64')\n",
    "df['Length of Stay'] = pd.to_numeric(df['Length of Stay']).astype('Int64')"
   ]
  },
  {
   "cell_type": "code",
   "execution_count": 30,
   "metadata": {},
   "outputs": [
    {
     "name": "stdout",
     "output_type": "stream",
     "text": [
      "<class 'pandas.core.frame.DataFrame'>\n",
      "Index: 2061481 entries, 0 to 2103432\n",
      "Data columns (total 24 columns):\n",
      " #   Column                               Dtype  \n",
      "---  ------                               -----  \n",
      " 0   Hospital Service Area                object \n",
      " 1   Hospital County                      object \n",
      " 2   Facility Name                        object \n",
      " 3   Age Group                            object \n",
      " 4   Zip Code                             object \n",
      " 5   Gender                               object \n",
      " 6   Race                                 object \n",
      " 7   Length of Stay                       Int64  \n",
      " 8   Type of Admission                    object \n",
      " 9   Patient Disposition                  object \n",
      " 10  Discharge Year                       int64  \n",
      " 11  CCSR Diagnosis Description           object \n",
      " 12  APR DRG Description                  object \n",
      " 13  APR MDC Description                  object \n",
      " 14  APR Severity of Illness Description  object \n",
      " 15  APR Risk of Mortality                object \n",
      " 16  APR Medical Surgical Description     object \n",
      " 17  Payment Typology 1                   object \n",
      " 18  Birth Weight                         Int64  \n",
      " 19  Emergency Department Indicator       object \n",
      " 20  Total Charges                        float64\n",
      " 21  Total Costs                          float64\n",
      " 22  Region                               object \n",
      " 23  Age Bracket                          object \n",
      "dtypes: Int64(2), float64(2), int64(1), object(19)\n",
      "memory usage: 397.1+ MB\n"
     ]
    }
   ],
   "source": [
    "df.info()"
   ]
  },
  {
   "cell_type": "code",
   "execution_count": 31,
   "metadata": {},
   "outputs": [],
   "source": [
    "df.columns = df.columns.str.replace(' ', '_').str.replace('-', '').str.upper()"
   ]
  },
  {
   "cell_type": "code",
   "execution_count": 32,
   "metadata": {},
   "outputs": [
    {
     "data": {
      "text/plain": [
       "Index(['HOSPITAL_SERVICE_AREA', 'HOSPITAL_COUNTY', 'FACILITY_NAME',\n",
       "       'AGE_GROUP', 'ZIP_CODE', 'GENDER', 'RACE', 'LENGTH_OF_STAY',\n",
       "       'TYPE_OF_ADMISSION', 'PATIENT_DISPOSITION', 'DISCHARGE_YEAR',\n",
       "       'CCSR_DIAGNOSIS_DESCRIPTION', 'APR_DRG_DESCRIPTION',\n",
       "       'APR_MDC_DESCRIPTION', 'APR_SEVERITY_OF_ILLNESS_DESCRIPTION',\n",
       "       'APR_RISK_OF_MORTALITY', 'APR_MEDICAL_SURGICAL_DESCRIPTION',\n",
       "       'PAYMENT_TYPOLOGY_1', 'BIRTH_WEIGHT', 'EMERGENCY_DEPARTMENT_INDICATOR',\n",
       "       'TOTAL_CHARGES', 'TOTAL_COSTS', 'REGION', 'AGE_BRACKET'],\n",
       "      dtype='object')"
      ]
     },
     "execution_count": 32,
     "metadata": {},
     "output_type": "execute_result"
    }
   ],
   "source": [
    "df.columns"
   ]
  },
  {
   "cell_type": "code",
   "execution_count": 33,
   "metadata": {},
   "outputs": [],
   "source": [
    "df.to_csv('./Data/cleaned_data.csv', index=False)"
   ]
  },
  {
   "cell_type": "code",
   "execution_count": 34,
   "metadata": {},
   "outputs": [],
   "source": [
    "cleaned = pd.read_csv('./Data/cleaned_data.csv')"
   ]
  },
  {
   "cell_type": "code",
   "execution_count": 35,
   "metadata": {},
   "outputs": [
    {
     "name": "stdout",
     "output_type": "stream",
     "text": [
      "<class 'pandas.core.frame.DataFrame'>\n",
      "RangeIndex: 2061481 entries, 0 to 2061480\n",
      "Data columns (total 24 columns):\n",
      " #   Column                               Dtype  \n",
      "---  ------                               -----  \n",
      " 0   HOSPITAL_SERVICE_AREA                object \n",
      " 1   HOSPITAL_COUNTY                      object \n",
      " 2   FACILITY_NAME                        object \n",
      " 3   AGE_GROUP                            object \n",
      " 4   ZIP_CODE                             object \n",
      " 5   GENDER                               object \n",
      " 6   RACE                                 object \n",
      " 7   LENGTH_OF_STAY                       int64  \n",
      " 8   TYPE_OF_ADMISSION                    object \n",
      " 9   PATIENT_DISPOSITION                  object \n",
      " 10  DISCHARGE_YEAR                       int64  \n",
      " 11  CCSR_DIAGNOSIS_DESCRIPTION           object \n",
      " 12  APR_DRG_DESCRIPTION                  object \n",
      " 13  APR_MDC_DESCRIPTION                  object \n",
      " 14  APR_SEVERITY_OF_ILLNESS_DESCRIPTION  object \n",
      " 15  APR_RISK_OF_MORTALITY                object \n",
      " 16  APR_MEDICAL_SURGICAL_DESCRIPTION     object \n",
      " 17  PAYMENT_TYPOLOGY_1                   object \n",
      " 18  BIRTH_WEIGHT                         int64  \n",
      " 19  EMERGENCY_DEPARTMENT_INDICATOR       object \n",
      " 20  TOTAL_CHARGES                        float64\n",
      " 21  TOTAL_COSTS                          float64\n",
      " 22  REGION                               object \n",
      " 23  AGE_BRACKET                          object \n",
      "dtypes: float64(2), int64(3), object(19)\n",
      "memory usage: 377.5+ MB\n"
     ]
    }
   ],
   "source": [
    "cleaned.info()"
   ]
  }
 ],
 "metadata": {
  "kernelspec": {
   "display_name": "venv",
   "language": "python",
   "name": "python3"
  },
  "language_info": {
   "codemirror_mode": {
    "name": "ipython",
    "version": 3
   },
   "file_extension": ".py",
   "mimetype": "text/x-python",
   "name": "python",
   "nbconvert_exporter": "python",
   "pygments_lexer": "ipython3",
   "version": "3.11.4"
  }
 },
 "nbformat": 4,
 "nbformat_minor": 2
}
